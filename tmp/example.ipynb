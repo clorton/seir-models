{
 "cells": [
  {
   "cell_type": "code",
   "execution_count": 1,
   "metadata": {},
   "outputs": [],
   "source": [
    "import numpy as np\n",
    "import pandas as pd"
   ]
  },
  {
   "cell_type": "code",
   "execution_count": 8,
   "metadata": {},
   "outputs": [
    {
     "data": {
      "text/html": [
       "<div>\n",
       "<style scoped>\n",
       "    .dataframe tbody tr th:only-of-type {\n",
       "        vertical-align: middle;\n",
       "    }\n",
       "\n",
       "    .dataframe tbody tr th {\n",
       "        vertical-align: top;\n",
       "    }\n",
       "\n",
       "    .dataframe thead th {\n",
       "        text-align: right;\n",
       "    }\n",
       "</style>\n",
       "<table border=\"1\" class=\"dataframe\">\n",
       "  <thead>\n",
       "    <tr style=\"text-align: right;\">\n",
       "      <th></th>\n",
       "      <th>t</th>\n",
       "    </tr>\n",
       "  </thead>\n",
       "  <tbody>\n",
       "    <tr>\n",
       "      <th>0</th>\n",
       "      <td>0</td>\n",
       "    </tr>\n",
       "    <tr>\n",
       "      <th>1</th>\n",
       "      <td>1</td>\n",
       "    </tr>\n",
       "    <tr>\n",
       "      <th>2</th>\n",
       "      <td>2</td>\n",
       "    </tr>\n",
       "    <tr>\n",
       "      <th>3</th>\n",
       "      <td>3</td>\n",
       "    </tr>\n",
       "    <tr>\n",
       "      <th>4</th>\n",
       "      <td>4</td>\n",
       "    </tr>\n",
       "  </tbody>\n",
       "</table>\n",
       "</div>"
      ],
      "text/plain": [
       "   t\n",
       "0  0\n",
       "1  1\n",
       "2  2\n",
       "3  3\n",
       "4  4"
      ]
     },
     "execution_count": 8,
     "metadata": {},
     "output_type": "execute_result"
    }
   ],
   "source": [
    "ts = pd.DataFrame()\n",
    "ts[\"t\"] = np.arange(0, 33)\n",
    "ts.head()"
   ]
  },
  {
   "cell_type": "code",
   "execution_count": 4,
   "metadata": {},
   "outputs": [],
   "source": [
    "def system(t, a=1.0/512, b=0, c=-1.5, d=5):\n",
    "    results = a*(t**3) + b*(t**2) + c*t + d\n",
    "    return results"
   ]
  },
  {
   "cell_type": "code",
   "execution_count": 12,
   "metadata": {},
   "outputs": [
    {
     "name": "stdout",
     "output_type": "stream",
     "text": [
      "min=-11.0, max=21.0\n",
      "0      5.000000\n",
      "1      3.501953\n",
      "2      2.015625\n",
      "3      0.552734\n",
      "4     -0.875000\n",
      "5     -2.255859\n",
      "6     -3.578125\n",
      "7     -4.830078\n",
      "8     -6.000000\n",
      "9     -7.076172\n",
      "10    -8.046875\n",
      "11    -8.900391\n",
      "12    -9.625000\n",
      "13   -10.208984\n",
      "14   -10.640625\n",
      "15   -10.908203\n",
      "16   -11.000000\n",
      "17   -10.904297\n",
      "18   -10.609375\n",
      "19   -10.103516\n",
      "20    -9.375000\n",
      "21    -8.412109\n",
      "22    -7.203125\n",
      "23    -5.736328\n",
      "24    -4.000000\n",
      "25    -1.982422\n",
      "26     0.328125\n",
      "27     2.943359\n",
      "28     5.875000\n",
      "29     9.134766\n",
      "30    12.734375\n",
      "31    16.685547\n",
      "32    21.000000\n",
      "Name: t, dtype: float64\n"
     ]
    }
   ],
   "source": [
    "results = system(ts.t)\n",
    "print(f\"min={results.min()}, max={results.max()}\")\n",
    "print(results)"
   ]
  }
 ],
 "metadata": {
  "kernelspec": {
   "display_name": "Python 3.10.7 64-bit",
   "language": "python",
   "name": "python3"
  },
  "language_info": {
   "codemirror_mode": {
    "name": "ipython",
    "version": 3
   },
   "file_extension": ".py",
   "mimetype": "text/x-python",
   "name": "python",
   "nbconvert_exporter": "python",
   "pygments_lexer": "ipython3",
   "version": "3.10.7"
  },
  "orig_nbformat": 4,
  "vscode": {
   "interpreter": {
    "hash": "eb4a0ac80907d7f44e1a5e88d3d3381b33e3dbedd3a24d113e876f30a0c46bee"
   }
  }
 },
 "nbformat": 4,
 "nbformat_minor": 2
}
